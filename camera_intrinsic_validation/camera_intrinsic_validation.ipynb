{
 "cells": [
  {
   "cell_type": "code",
   "execution_count": 32,
   "metadata": {},
   "outputs": [],
   "source": [
    "import numpy as np\n",
    "import math\n",
    "import cv2\n",
    "import matplotlib.pyplot as plt"
   ]
  },
  {
   "cell_type": "code",
   "execution_count": 33,
   "metadata": {},
   "outputs": [],
   "source": [
    "''' parameters '''\n",
    "# yaw of cube in gazebo\n",
    "rot = 0.5 \n",
    "\n",
    "# hfov of kinect_ros in gazebo\n",
    "hfov = 0.8"
   ]
  },
  {
   "cell_type": "code",
   "execution_count": 34,
   "metadata": {},
   "outputs": [
    {
     "name": "stdout",
     "output_type": "stream",
     "text": [
      "[[ 0.87758256 -0.47942554  0.        ]\n",
      " [ 0.47942554  0.87758256  0.        ]\n",
      " [ 0.          0.          1.        ]]\n"
     ]
    }
   ],
   "source": [
    "# rotation matrix for changing yaw\n",
    "rotation_matrix = np.array([[np.cos(rot), -np.sin(rot), 0],[np.sin(rot), np.cos(rot), 0],[0, 0, 1]])\n",
    "print(rotation_matrix)"
   ]
  },
  {
   "cell_type": "code",
   "execution_count": 35,
   "metadata": {},
   "outputs": [
    {
     "name": "stdout",
     "output_type": "stream",
     "text": [
      "\n",
      "coordinates of cube vertices under world frame\n",
      "\n",
      " [[ 3.19907851  0.67850405 -0.5       ]\n",
      " [ 3.67850405 -0.19907851 -0.5       ]\n",
      " [ 2.32149595  0.19907851 -0.5       ]\n",
      " [ 2.80092149 -0.67850405 -0.5       ]\n",
      " [ 3.19907851  0.67850405  0.5       ]\n",
      " [ 3.67850405 -0.19907851  0.5       ]\n",
      " [ 2.32149595  0.19907851  0.5       ]\n",
      " [ 2.80092149 -0.67850405  0.5       ]]\n",
      "\n",
      "coordinates of cube vertices under camera frame\n",
      "\n",
      " [[-0.67850405  0.5         3.19907851]\n",
      " [ 0.19907851  0.5         3.67850405]\n",
      " [-0.19907851  0.5         2.32149595]\n",
      " [ 0.67850405  0.5         2.80092149]\n",
      " [-0.67850405 -0.5         3.19907851]\n",
      " [ 0.19907851 -0.5         3.67850405]\n",
      " [-0.19907851 -0.5         2.32149595]\n",
      " [ 0.67850405 -0.5         2.80092149]]\n"
     ]
    }
   ],
   "source": [
    "# cube vertecies\n",
    "vs = np.array([[ 0.5,  0.5, 0], \n",
    "               [ 0.5, -0.5, 0],\n",
    "               [-0.5,  0.5, 0],\n",
    "               [-0.5, -0.5, 0],\n",
    "               [ 0.5,  0.5, 1],\n",
    "               [ 0.5, -0.5, 1],\n",
    "               [-0.5,  0.5, 1],\n",
    "               [-0.5, -0.5, 1]]\n",
    "               )\n",
    "vs = np.transpose(vs)\n",
    "\n",
    "# cube certecies after changing yaw\n",
    "vertex_prime = np.matmul(rotation_matrix, vs)\n",
    "\n",
    "zero_point = np.reshape([3, 0, 0], (3, 1)) # center of cube\n",
    "camera_pos = np.reshape([0, 0, 0.5], (3, 1)) # camera position\n",
    "\n",
    "# cube vertecies coords under world frame\n",
    "world_coords = zero_point - camera_pos + vertex_prime \n",
    "\n",
    "rot_to_cam = np.array([[ 0, -1, 0],\n",
    "                       [ 0,  0, -1],\n",
    "                       [ 1,  0, 0]])\n",
    "\n",
    "# cube vertecies coods under camera frame\n",
    "camera_coords = np.matmul(rot_to_cam, world_coords)\n",
    "\n",
    "print(\"\\ncoordinates of cube vertices under world frame\\n\\n\", world_coords.transpose())\n",
    "print(\"\\ncoordinates of cube vertices under camera frame\\n\\n\", camera_coords.transpose())"
   ]
  },
  {
   "cell_type": "code",
   "execution_count": 41,
   "metadata": {},
   "outputs": [
    {
     "name": "stdout",
     "output_type": "stream",
     "text": [
      "(480, 640, 3)\n"
     ]
    }
   ],
   "source": [
    "img = cv2.imread('hfov0.8_1.png')\n",
    "print(img.shape)\n",
    "#'hfov0.8_1.png' cube yaw = 0.5\n",
    "#'hfov0.8_2.png' cube yaw = 0.3"
   ]
  },
  {
   "cell_type": "code",
   "execution_count": 42,
   "metadata": {},
   "outputs": [
    {
     "name": "stdout",
     "output_type": "stream",
     "text": [
      "756.8711744125153 756.8711744125153\n"
     ]
    }
   ],
   "source": [
    "# http://sdformat.org/spec?ver=1.7&elem=sensor#lens_intrinsics\n",
    "# https://enphotonics.com/camera-calculator/\n",
    "\n",
    "img_width = img.shape[1]\n",
    "img_height = img.shape[0]\n",
    "\n",
    "# calculate vertical fov from hfov, height and width\n",
    "vfov = np.arctan(np.tan(hfov/2)/img_width*img_height)*2 # derive from hfov \n",
    "fx = (img_width * 0.5)/np.tan(hfov*0.5)\n",
    "fy = (img_height * 0.5)/np.tan(vfov*0.5)\n",
    "print(fx, fy)"
   ]
  },
  {
   "cell_type": "code",
   "execution_count": 43,
   "metadata": {},
   "outputs": [],
   "source": [
    "camera_intrinsic = np.array([[fx, 0 , img_width/2 ],\n",
    "                             [0 , fy, img_height/2],\n",
    "                             [0 , 0 , 1           ]])"
   ]
  },
  {
   "cell_type": "code",
   "execution_count": 44,
   "metadata": {},
   "outputs": [
    {
     "name": "stdout",
     "output_type": "stream",
     "text": [
      "[-0.67850405  0.19907851 -0.19907851  0.67850405 -0.67850405  0.19907851\n",
      " -0.19907851  0.67850405]\n"
     ]
    }
   ],
   "source": [
    "#test = np.array([0, 0, 3]).transpose()\n",
    "print(camera_coords[0])\n",
    "pixel_pos = np.matmul(camera_intrinsic, camera_coords)\n",
    "#float_array.astype(int)"
   ]
  },
  {
   "cell_type": "code",
   "execution_count": 45,
   "metadata": {},
   "outputs": [
    {
     "name": "stdout",
     "output_type": "stream",
     "text": [
      "[159.4724745  358.29518589   1.        ]\n",
      "[360.9614302  342.87757796   1.        ]\n",
      "[255.09496025 403.0136754    1.        ]\n",
      "[503.34685906 375.11110139   1.        ]\n",
      "[159.4724745  121.70481411   1.        ]\n",
      "[360.9614302  137.12242204   1.        ]\n",
      "[255.09496025  76.9863246    1.        ]\n",
      "[503.34685906 104.88889861   1.        ]\n"
     ]
    },
    {
     "data": {
      "image/png": "[encoded data removed]",
      "text/plain": [
       "<Figure size 432x288 with 1 Axes>"
      ]
     },
     "metadata": {
      "needs_background": "light"
     },
     "output_type": "display_data"
    }
   ],
   "source": [
    "\n",
    "plt.imshow(img)\n",
    "for row in pixel_pos.transpose():\n",
    "    row[0] /= row[2]\n",
    "    row[1] /= row[2]\n",
    "    row[2] /= row[2]\n",
    "    print(row)\n",
    "    plt.scatter([row[0]], [row[1]], s = 3)\n",
    "plt.show()"
   ]
  },
  {
   "cell_type": "code",
   "execution_count": null,
   "metadata": {},
   "outputs": [],
   "source": []
  }
 ],
 "metadata": {
  "kernelspec": {
   "display_name": "Python 3",
   "language": "python",
   "name": "python3"
  },
  "language_info": {
   "codemirror_mode": {
    "name": "ipython",
    "version": 3
   },
   "file_extension": ".py",
   "mimetype": "text/x-python",
   "name": "python",
   "nbconvert_exporter": "python",
   "pygments_lexer": "ipython3",
   "version": "3.6.7rc2"
  }
 },
 "nbformat": 4,
 "nbformat_minor": 2
}
