{
 "cells": [
  {
   "cell_type": "code",
   "execution_count": 88,
   "metadata": {},
   "outputs": [],
   "source": [
    "import os\n",
    "import sys\n",
    "import cv2\n",
    "import numpy as np\n",
    "import matplotlib.pyplot as plt\n",
    "from PIL import Image"
   ]
  },
  {
   "cell_type": "code",
   "execution_count": 89,
   "metadata": {},
   "outputs": [],
   "source": [
    "# https://stackoverflow.com/questions/50129762/graphlab-create-2-1-installation-fails-to-uninstall-certifi-a-distutils-insta\n",
    "#!pip3 install matplotlib --ignore-installed certifi"
   ]
  },
  {
   "cell_type": "code",
   "execution_count": 90,
   "metadata": {},
   "outputs": [
    {
     "data": {
      "text/plain": [
       "'/workspace/DenseFusion/datasets/linemod/Linemod_preprocessed'"
      ]
     },
     "execution_count": 90,
     "metadata": {},
     "output_type": "execute_result"
    }
   ],
   "source": [
    "os.getcwd()"
   ]
  },
  {
   "cell_type": "code",
   "execution_count": 91,
   "metadata": {},
   "outputs": [
    {
     "name": "stdout",
     "output_type": "stream",
     "text": [
      "0000.png\n"
     ]
    }
   ],
   "source": [
    "root_path = 'data/02'#'test_images'#\n",
    "img_path = 'depth'#'mask' #\n",
    "img_name = '0002.png'\n",
    "target = os.path.join(root_path, img_path, img_name)\n",
    "target = '0000.png'\n",
    "print(target)"
   ]
  },
  {
   "cell_type": "code",
   "execution_count": 92,
   "metadata": {},
   "outputs": [
    {
     "name": "stdout",
     "output_type": "stream",
     "text": [
      "[[2253 2250 2247 ... 1243 1242 1241]\n",
      " [2255 2252 2249 ... 1243 1242 1241]\n",
      " [2256 2254 2251 ... 1244 1243 1242]\n",
      " ...\n",
      " [1236 1240 1244 ...  650  650  650]\n",
      " [1236 1240 1243 ...  649  649  649]\n",
      " [1237 1240 1243 ...  647  647  647]]\n"
     ]
    }
   ],
   "source": [
    "img = np.array(Image.open(target))\n",
    "#np.set_printoptions(threshold=sys.maxsize)\n",
    "print(img)"
   ]
  },
  {
   "cell_type": "code",
   "execution_count": 93,
   "metadata": {},
   "outputs": [
    {
     "name": "stdout",
     "output_type": "stream",
     "text": [
      "(480, 640)\n"
     ]
    }
   ],
   "source": [
    "print(img.shape)"
   ]
  },
  {
   "cell_type": "code",
   "execution_count": 94,
   "metadata": {},
   "outputs": [
    {
     "data": {
      "text/plain": [
       "<matplotlib.image.AxesImage at 0x7f4090f08dd8>"
      ]
     },
     "execution_count": 94,
     "metadata": {},
     "output_type": "execute_result"
    },
    {
     "data": {
      "image/png": "[encoded data removed]",
      "text/plain": [
       "<Figure size 432x288 with 1 Axes>"
      ]
     },
     "metadata": {
      "needs_background": "light"
     },
     "output_type": "display_data"
    }
   ],
   "source": [
    "#img = cv2.imread(target, -1)\n",
    "#img = (img/162287)*255\n",
    "plt.imshow(img)"
   ]
  },
  {
   "cell_type": "code",
   "execution_count": 81,
   "metadata": {},
   "outputs": [],
   "source": [
    "#print(\"image value\")\n",
    "#print(img)"
   ]
  },
  {
   "cell_type": "code",
   "execution_count": 82,
   "metadata": {},
   "outputs": [
    {
     "name": "stdout",
     "output_type": "stream",
     "text": [
      "Unique Value\n",
      "[[     0   1023]\n",
      " [     1 162287]\n",
      " [     2   4087]\n",
      " [     3    383]\n",
      " [     4    229]\n",
      " [     5    109]\n",
      " [     6     35]\n",
      " [     7     12]\n",
      " [     8      6]\n",
      " [     9      1]\n",
      " [   248      5]\n",
      " [   249      3]\n",
      " [   250     25]\n",
      " [   251     56]\n",
      " [   252    147]\n",
      " [   253    356]\n",
      " [   254    521]\n",
      " [   255 137915]]\n"
     ]
    }
   ],
   "source": [
    "#test = [1.2, 1.4, 2.5]\n",
    "print(\"Unique Value\")\n",
    "(unique, counts) = np.unique(img, return_counts=True)\n",
    "frequencies = np.asarray((unique, counts)).T\n",
    "print(frequencies)"
   ]
  },
  {
   "cell_type": "code",
   "execution_count": 67,
   "metadata": {},
   "outputs": [
    {
     "name": "stdout",
     "output_type": "stream",
     "text": [
      "[[255 255 255 ... 255 255 255]\n",
      " [255 255 255 ... 255 255 255]\n",
      " [255 255 255 ... 255 255 255]\n",
      " ...\n",
      " [  1   1   1 ...   1   1   1]\n",
      " [  1   1   1 ...   1   1   1]\n",
      " [  1   1   1 ...   1   1   1]]\n"
     ]
    },
    {
     "data": {
      "text/plain": [
       "True"
      ]
     },
     "execution_count": 67,
     "metadata": {},
     "output_type": "execute_result"
    }
   ],
   "source": [
    "# depthMap = numpy.array([your depth value array])\n",
    "# https://stackoverflow.com/questions/55218149/image-manipulation-in-python-using-pil-and-facing-problem-with-fromarray\n",
    "print(img)\n",
    "cv2.imwrite('test.png', img.astype(np.uint16))"
   ]
  },
  {
   "cell_type": "code",
   "execution_count": 68,
   "metadata": {},
   "outputs": [
    {
     "name": "stdout",
     "output_type": "stream",
     "text": [
      "[[255 255 255 ... 255 255 255]\n",
      " [255 255 255 ... 255 255 255]\n",
      " [255 255 255 ... 255 255 255]\n",
      " ...\n",
      " [  1   1   1 ...   1   1   1]\n",
      " [  1   1   1 ...   1   1   1]\n",
      " [  1   1   1 ...   1   1   1]]\n"
     ]
    }
   ],
   "source": [
    "img = np.array(Image.open('test.png'))\n",
    "#np.set_printoptions(threshold=sys.maxsize)\n",
    "print(img)"
   ]
  },
  {
   "cell_type": "code",
   "execution_count": null,
   "metadata": {},
   "outputs": [],
   "source": []
  }
 ],
 "metadata": {
  "kernelspec": {
   "display_name": "Python 3",
   "language": "python",
   "name": "python3"
  },
  "language_info": {
   "codemirror_mode": {
    "name": "ipython",
    "version": 3
   },
   "file_extension": ".py",
   "mimetype": "text/x-python",
   "name": "python",
   "nbconvert_exporter": "python",
   "pygments_lexer": "ipython3",
   "version": "3.6.7rc2"
  }
 },
 "nbformat": 4,
 "nbformat_minor": 4
}
